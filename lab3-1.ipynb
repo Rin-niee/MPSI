{
 "cells": [
  {
   "cell_type": "code",
   "execution_count": 1,
   "id": "1a79b87b-6d0b-48f9-ae99-c73fa7f947c7",
   "metadata": {},
   "outputs": [
    {
     "name": "stdout",
     "output_type": "stream",
     "text": [
      "Requirement already satisfied: pandas in c:\\anaconda\\lib\\site-packages (2.2.2)\n",
      "Requirement already satisfied: numpy>=1.26.0 in c:\\anaconda\\lib\\site-packages (from pandas) (1.26.4)\n",
      "Requirement already satisfied: python-dateutil>=2.8.2 in c:\\anaconda\\lib\\site-packages (from pandas) (2.9.0.post0)\n",
      "Requirement already satisfied: pytz>=2020.1 in c:\\anaconda\\lib\\site-packages (from pandas) (2024.1)\n",
      "Requirement already satisfied: tzdata>=2022.7 in c:\\anaconda\\lib\\site-packages (from pandas) (2023.3)\n",
      "Requirement already satisfied: six>=1.5 in c:\\anaconda\\lib\\site-packages (from python-dateutil>=2.8.2->pandas) (1.16.0)\n",
      "Note: you may need to restart the kernel to use updated packages.\n"
     ]
    }
   ],
   "source": [
    "pip install pandas"
   ]
  },
  {
   "cell_type": "code",
   "execution_count": 276,
   "id": "af037750-552c-4022-85d0-bee7a8f7a886",
   "metadata": {},
   "outputs": [],
   "source": [
    "import math\n",
    "import pandas as pd\n",
    "import random\n",
    "import numpy as np"
   ]
  },
  {
   "cell_type": "code",
   "execution_count": 278,
   "id": "e7a6b427-f42f-4eb2-aac2-33d792cfef10",
   "metadata": {},
   "outputs": [],
   "source": [
    "df = pd.read_csv('adult11.csv')\n",
    "df = df.head(50)"
   ]
  },
  {
   "cell_type": "markdown",
   "id": "68aa4e98-a8d2-4a2f-bd95-077b7709beba",
   "metadata": {},
   "source": [
    "Признак делаем бинарным потому как он странно представлен"
   ]
  },
  {
   "cell_type": "code",
   "execution_count": 280,
   "id": "ac65bc75-caaa-4328-9f38-94aff8c4d204",
   "metadata": {},
   "outputs": [],
   "source": [
    "df['salary_binary'] = df['salary'].map({'<=50K': 0, '>50K': 1})"
   ]
  },
  {
   "cell_type": "markdown",
   "id": "f2247332-07e7-4c75-9b47-973b07d1ff56",
   "metadata": {},
   "source": [
    "Выбираем, по каким признакам будем определять"
   ]
  },
  {
   "cell_type": "code",
   "execution_count": 418,
   "id": "1b97658c-f2b4-4f82-b99a-d094fb9a3c5e",
   "metadata": {},
   "outputs": [],
   "source": [
    "X = np.array(df[['age', 'hours-per-week', 'education-num']])\n",
    "Y = np.array(df['salary_binary'])"
   ]
  },
  {
   "cell_type": "markdown",
   "id": "217e1637-9de6-46fc-af04-dc1585a66acd",
   "metadata": {},
   "source": [
    "Нормализация входных данных"
   ]
  },
  {
   "cell_type": "code",
   "execution_count": 447,
   "id": "57662e78-9786-45aa-ba64-331caddc7f38",
   "metadata": {},
   "outputs": [],
   "source": [
    "X = (X - X.mean(axis=0)) / X.std(axis=0)"
   ]
  },
  {
   "cell_type": "markdown",
   "id": "12f59cdd-42a7-4d8a-8b03-3915e9ed9dd1",
   "metadata": {},
   "source": [
    "Чтобы в функциях не повторять, вынесла все параметры"
   ]
  },
  {
   "cell_type": "code",
   "execution_count": 478,
   "id": "faffea55-3feb-4cc8-8435-b2dc35ea025f",
   "metadata": {},
   "outputs": [],
   "source": [
    "input_neurons = X.shape[1]  # Количество входных признаков\n",
    "hidden_neurons = 5  # Количество нейронов в скрытом слое\n",
    "output_neurons = 1  # Выходной слой\n",
    "epochs = 5000\n",
    "lr = 0.1"
   ]
  },
  {
   "cell_type": "markdown",
   "id": "006f2155-06ab-468d-8359-8ef482742887",
   "metadata": {},
   "source": [
    "Сигмоида"
   ]
  },
  {
   "cell_type": "code",
   "execution_count": 481,
   "id": "304eaedd-01d0-4970-bd2d-366195685c53",
   "metadata": {},
   "outputs": [],
   "source": [
    "def sigmoid(x):\n",
    "    return 1 / (1 + np.exp(-x))"
   ]
  },
  {
   "cell_type": "markdown",
   "id": "e5057e46-08a8-46f0-adce-637d01c754f8",
   "metadata": {},
   "source": [
    "Производная сигмоиды"
   ]
  },
  {
   "cell_type": "code",
   "execution_count": 484,
   "id": "7539c4bc-1efe-4032-b6ef-c33c4af62492",
   "metadata": {},
   "outputs": [],
   "source": [
    "def sigmoid_derivative(x):\n",
    "    return x * (1 - x)"
   ]
  },
  {
   "cell_type": "markdown",
   "id": "ea6fbc80-a053-4055-a49a-00c623eb6c33",
   "metadata": {},
   "source": [
    "Инициализация нейронной сети"
   ]
  },
  {
   "cell_type": "code",
   "execution_count": 499,
   "id": "2ddca540-6254-47a7-94dd-5886c46a2533",
   "metadata": {},
   "outputs": [],
   "source": [
    "def initialize_network(input_neurons, hidden_neurons, output_neurons):\n",
    "    # Инициализация весов и смещений\n",
    "    weights_hidden = np.random.uniform(-1, 1, (input_neurons, hidden_neurons))\n",
    "    bias_hidden = np.random.uniform(-1, 1, hidden_neurons)\n",
    "    weights_output = np.random.uniform(-1, 1, (hidden_neurons, output_neurons))\n",
    "    bias_output = np.random.uniform(-1, 1, output_neurons)\n",
    "    return weights_hidden, bias_hidden, weights_output, bias_output"
   ]
  },
  {
   "cell_type": "markdown",
   "id": "45a544b2-c339-4d9d-a269-b6604ceaf9a8",
   "metadata": {},
   "source": [
    "Прямой проход"
   ]
  },
  {
   "cell_type": "code",
   "execution_count": 502,
   "id": "b3c73aa7-9e64-49ea-b00d-263dfa07ee6b",
   "metadata": {},
   "outputs": [],
   "source": [
    "def forward_pass(X, weights_hidden, bias_hidden, weights_output, bias_output):\n",
    "    hidden_input = np.dot(X, weights_hidden) + bias_hidden\n",
    "    hidden_output = sigmoid(hidden_input)\n",
    "\n",
    "    output_input = np.dot(hidden_output, weights_output) + bias_output\n",
    "    output = sigmoid(output_input)\n",
    "    \n",
    "    return hidden_output, output"
   ]
  },
  {
   "cell_type": "markdown",
   "id": "ccecc044-29d6-405d-b7ed-ecb4035d15bc",
   "metadata": {},
   "source": [
    "Обратное распространение ошибки"
   ]
  },
  {
   "cell_type": "code",
   "execution_count": 505,
   "id": "2f07fa3d-3c97-4e55-a567-26d3468cb559",
   "metadata": {},
   "outputs": [],
   "source": [
    "def backward_pass(X, Y, hidden_output, output, weights_output, weights_hidden, bias_output, bias_hidden, lr):\n",
    "    error = Y.reshape(-1, 1) - output\n",
    "\n",
    "    # Градиент для выходного слоя\n",
    "    output_gradient = error * sigmoid_derivative(output)\n",
    "\n",
    "    # Градиент для скрытого слоя\n",
    "    hidden_gradient = np.dot(output_gradient, weights_output.T) * sigmoid_derivative(hidden_output)\n",
    "\n",
    "    # Обновление весов и смещений\n",
    "    weights_output += lr * np.dot(hidden_output.T, output_gradient)\n",
    "    bias_output += lr * np.sum(output_gradient, axis=0)\n",
    "\n",
    "    weights_hidden += lr * np.dot(X.T, hidden_gradient)\n",
    "    bias_hidden += lr * np.sum(hidden_gradient, axis=0)\n",
    "    \n",
    "    return weights_hidden, bias_hidden, weights_output, bias_output"
   ]
  },
  {
   "cell_type": "markdown",
   "id": "34317f85-2b49-44d6-bbbe-d1c649b27508",
   "metadata": {},
   "source": [
    "Обучение нейросети"
   ]
  },
  {
   "cell_type": "code",
   "execution_count": 508,
   "id": "bd1ee1e1-683f-4ff1-90ee-cb2cf68af2a8",
   "metadata": {},
   "outputs": [],
   "source": [
    "def train_neural_network(X, Y, input_neurons, hidden_neurons, output_neurons, epochs, lr):\n",
    "    np.random.seed(1)\n",
    "    \n",
    "    # Инициализация весов и смещений\n",
    "    weights_hidden = np.random.uniform(-1, 1, (input_neurons, hidden_neurons))\n",
    "    bias_hidden = np.random.uniform(-1, 1, hidden_neurons)\n",
    "    weights_output = np.random.uniform(-1, 1, (hidden_neurons, output_neurons))\n",
    "    bias_output = np.random.uniform(-1, 1, output_neurons)\n",
    "    \n",
    "    # Обучение сети\n",
    "    for epoch in range(epochs):\n",
    "        hidden_output, output = forward_pass(X, weights_hidden, bias_hidden, weights_output, bias_output)\n",
    "        weights_hidden, bias_hidden, weights_output, bias_output = backward_pass(\n",
    "            X, Y, hidden_output, output, weights_output, weights_hidden, bias_output, bias_hidden, lr\n",
    "        )\n",
    "        if epoch % 1000 == 0:\n",
    "            error = np.mean(np.square(Y.reshape(-1, 1) - output))\n",
    "            print(f'Epoch {epoch}, Error: {error}')\n",
    "    \n",
    "    return weights_hidden, bias_hidden, weights_output, bias_output"
   ]
  },
  {
   "cell_type": "markdown",
   "id": "96796097-1317-4183-b1c2-080deab13367",
   "metadata": {},
   "source": [
    "Предсказания"
   ]
  },
  {
   "cell_type": "code",
   "execution_count": 511,
   "id": "0175ef48-8c19-4802-8a4a-a580a7c6a1f0",
   "metadata": {},
   "outputs": [],
   "source": [
    "def predict(X, weights_hidden, bias_hidden, weights_output, bias_output):\n",
    "    _, output = forward_pass(X, weights_hidden, bias_hidden, weights_output, bias_output)\n",
    "    return output"
   ]
  },
  {
   "cell_type": "code",
   "execution_count": 513,
   "id": "ec8db7c7-8b23-4793-a905-8da6f1d68fe5",
   "metadata": {},
   "outputs": [
    {
     "name": "stdout",
     "output_type": "stream",
     "text": [
      "Epoch 0, Error: 0.5377348829818134\n",
      "Epoch 1000, Error: 0.08420041301383385\n",
      "Epoch 2000, Error: 0.06101993996099767\n",
      "Epoch 3000, Error: 0.03446379568876373\n",
      "Epoch 4000, Error: 0.025459083275736854\n",
      "Предсказания: [4.66726522e-05 4.32886206e-02 7.90779348e-01 9.60153542e-01\n",
      " 1.55381210e-02 4.56899350e-05 1.28955600e-04 9.29367349e-01\n",
      " 3.09620474e-02 6.72448829e-08 4.95515507e-01 5.17879029e-01\n",
      " 1.10713782e-04 6.58711271e-02 9.60262302e-01 9.99867060e-01\n",
      " 2.35087875e-02 6.47228634e-05 8.81420935e-04 9.99871506e-01\n",
      " 9.18404952e-01 2.49690932e-02 4.80837603e-07 7.29931579e-02\n",
      " 2.01240032e-01 8.87467586e-01 2.18791950e-03 4.72976023e-04\n",
      " 3.21924002e-02 3.56882103e-02 9.69764871e-01 1.67293669e-02\n",
      " 5.28075908e-02 2.84357826e-02 1.17156492e-04 4.95515507e-01\n",
      " 5.17879029e-01 4.64142110e-05 4.64348042e-05 1.04782350e-04\n",
      " 9.26420950e-01 9.99063400e-01 1.95724790e-04 4.66883073e-05\n",
      " 1.29702581e-02 9.32684482e-01 4.19244655e-05 5.81285927e-02\n",
      " 8.51885782e-08 5.68535449e-02]\n"
     ]
    }
   ],
   "source": [
    "weights_hidden, bias_hidden, weights_output, bias_output = train_neural_network(X, Y, input_neurons, hidden_neurons, output_neurons, epochs, lr)\n",
    "\n",
    "predictions = predict(X, weights_hidden, bias_hidden, weights_output, bias_output)\n",
    "print(\"Предсказания:\", predictions.flatten())"
   ]
  },
  {
   "cell_type": "code",
   "execution_count": 515,
   "id": "e9ffdbaf-2706-4e76-bbb2-cd1023ce9621",
   "metadata": {},
   "outputs": [
    {
     "name": "stdout",
     "output_type": "stream",
     "text": [
      "[[0]\n",
      " [0]\n",
      " [1]\n",
      " [1]\n",
      " [0]\n",
      " [0]\n",
      " [0]\n",
      " [1]\n",
      " [0]\n",
      " [0]\n",
      " [0]\n",
      " [1]\n",
      " [0]\n",
      " [0]\n",
      " [1]\n",
      " [1]\n",
      " [0]\n",
      " [0]\n",
      " [0]\n",
      " [1]\n",
      " [1]\n",
      " [0]\n",
      " [0]\n",
      " [0]\n",
      " [0]\n",
      " [1]\n",
      " [0]\n",
      " [0]\n",
      " [0]\n",
      " [0]\n",
      " [1]\n",
      " [0]\n",
      " [0]\n",
      " [0]\n",
      " [0]\n",
      " [0]\n",
      " [1]\n",
      " [0]\n",
      " [0]\n",
      " [0]\n",
      " [1]\n",
      " [1]\n",
      " [0]\n",
      " [0]\n",
      " [0]\n",
      " [1]\n",
      " [0]\n",
      " [0]\n",
      " [0]\n",
      " [0]]\n"
     ]
    }
   ],
   "source": [
    "binary_predictions = (predictions > 0.5).astype(int)\n",
    "print(binary_predictions)"
   ]
  },
  {
   "cell_type": "markdown",
   "id": "13ea132a-da12-4816-a9d7-d2aadafd0d8d",
   "metadata": {},
   "source": [
    "тут проверочка почему числа такие отвратительные(сам код работает, но для данного датафрейма не особенно)"
   ]
  },
  {
   "cell_type": "code",
   "execution_count": 34,
   "id": "e324fd28-8e9a-4a3e-a4c4-9f4059d24a2f",
   "metadata": {},
   "outputs": [],
   "source": [
    "import matplotlib.pyplot as plt\n",
    "import seaborn as sns\n",
    "import pandas as pd"
   ]
  },
  {
   "cell_type": "code",
   "execution_count": 35,
   "id": "ba8bb457-9fd2-471f-ba62-4fcd3b19c980",
   "metadata": {},
   "outputs": [
    {
     "data": {
      "image/png": "[encoded data removed]",
      "text/plain": [
       "<Figure size 640x480 with 1 Axes>"
      ]
     },
     "metadata": {},
     "output_type": "display_data"
    }
   ],
   "source": [
    "sns.scatterplot(x='age', y='hours-per-week', hue='salary_binary', data=df, palette='coolwarm')\n",
    "plt.title('Зависимость возраста и рабочих часов от зарплаты')\n",
    "plt.xlabel('Age')\n",
    "plt.ylabel('Hours per Week')\n",
    "plt.show()"
   ]
  }
 ],
 "metadata": {
  "kernelspec": {
   "display_name": "Python [conda env:base] *",
   "language": "python",
   "name": "conda-base-py"
  },
  "language_info": {
   "codemirror_mode": {
    "name": "ipython",
    "version": 3
   },
   "file_extension": ".py",
   "mimetype": "text/x-python",
   "name": "python",
   "nbconvert_exporter": "python",
   "pygments_lexer": "ipython3",
   "version": "3.12.7"
  }
 },
 "nbformat": 4,
 "nbformat_minor": 5
}
